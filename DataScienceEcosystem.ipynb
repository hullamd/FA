{
 "cells": [
  {
   "cell_type": "markdown",
   "id": "6d2263d3",
   "metadata": {},
   "source": [
    "# Data Science Tools and Ecosystem"
   ]
  },
  {
   "cell_type": "markdown",
   "id": "273f6679",
   "metadata": {},
   "source": [
    "# Data Science Tools and Ecosystem"
   ]
  },
  {
   "cell_type": "markdown",
   "id": "ff9f8645",
   "metadata": {},
   "source": [
    "In this notebook, Data Science Tools and Ecosystem are presented as a practice work."
   ]
  },
  {
   "cell_type": "markdown",
   "id": "5a91e936",
   "metadata": {},
   "source": [
    "*Objectives:*\n",
    "+ popular languages that Data Science\n",
    "+ examples of evaluating arithmetic expressions\n",
    "+ Data Science tools"
   ]
  },
  {
   "cell_type": "markdown",
   "id": "19694383",
   "metadata": {},
   "source": [
    "*Objectives:*\n",
    "+ popular languages that Data Science\n",
    "+ examples of evaluating arithmetic expressions\n",
    "+ Data Science tools"
   ]
  },
  {
   "cell_type": "markdown",
   "id": "a8b89bbf",
   "metadata": {},
   "source": [
    "Some of the popular languages that Data Scientists are use:\n",
    "1. Python\n",
    "2. R\n",
    "3. SQL\n",
    "4. JAVA\n",
    "5. Julia"
   ]
  },
  {
   "cell_type": "markdown",
   "id": "4664a405",
   "metadata": {},
   "source": [
    "Some of the popular languages that Data Scientists are use:\n",
    "1. Python\n",
    "2. R\n",
    "3. SQL\n",
    "4. JAVA\n",
    "5. Julia"
   ]
  },
  {
   "cell_type": "markdown",
   "id": "4cd24ece",
   "metadata": {},
   "source": [
    "Some of the popular libraries that Data Scientists are use:\n",
    "1. TensorFlow\n",
    "2. Pandas\n",
    "3. SciPy\n",
    "4. Keras\n",
    "5. NumPy"
   ]
  },
  {
   "cell_type": "markdown",
   "id": "f7896eb1",
   "metadata": {},
   "source": [
    "Some of the popular libraries that Data Scientists are use:\n",
    "1. TensorFlow\n",
    "2. Pandas\n",
    "3. SciPy\n",
    "4. Keras\n",
    "5. NumPy"
   ]
  },
  {
   "cell_type": "markdown",
   "id": "fde23775",
   "metadata": {},
   "source": [
    "|Data Science Tools|\n",
    "|-----|\n",
    "|RStudio|\n",
    "|Apache Spark|\n",
    "|TenserFlow|\n",
    "|Apache Hadoop|"
   ]
  },
  {
   "cell_type": "markdown",
   "id": "47adb4b4",
   "metadata": {},
   "source": [
    "|Data Science Tools|\n",
    "|-----|\n",
    "|RStudio|\n",
    "|Apache Spark|\n",
    "|TenserFlow|\n",
    "|Apache Hadoop|"
   ]
  },
  {
   "cell_type": "markdown",
   "id": "1b574021",
   "metadata": {},
   "source": [
    "### Below are a few examples of evaluating arithmetic expressions in Python"
   ]
  },
  {
   "cell_type": "markdown",
   "id": "8bf451d8",
   "metadata": {},
   "source": [
    "### Below are a few examples of evaluating arithmetic expressions in Python"
   ]
  },
  {
   "cell_type": "code",
   "execution_count": 1,
   "id": "400eb1f5",
   "metadata": {},
   "outputs": [
    {
     "data": {
      "text/plain": [
       "2"
      ]
     },
     "execution_count": 1,
     "metadata": {},
     "output_type": "execute_result"
    }
   ],
   "source": [
    "1+1"
   ]
  },
  {
   "cell_type": "code",
   "execution_count": 2,
   "id": "4dadadc7",
   "metadata": {},
   "outputs": [
    {
     "data": {
      "text/plain": [
       "0.625"
      ]
     },
     "execution_count": 2,
     "metadata": {},
     "output_type": "execute_result"
    }
   ],
   "source": [
    "5/8"
   ]
  },
  {
   "cell_type": "code",
   "execution_count": 3,
   "id": "6bc19204",
   "metadata": {},
   "outputs": [
    {
     "data": {
      "text/plain": [
       "2"
      ]
     },
     "execution_count": 3,
     "metadata": {},
     "output_type": "execute_result"
    }
   ],
   "source": [
    "min(2, 8, 12)"
   ]
  },
  {
   "cell_type": "markdown",
   "id": "9da0966f",
   "metadata": {},
   "source": [
    "## This a simple arithmetic expression to mutiply then add integers"
   ]
  },
  {
   "cell_type": "code",
   "execution_count": 5,
   "id": "eaca4185",
   "metadata": {},
   "outputs": [
    {
     "data": {
      "text/plain": [
       "17"
      ]
     },
     "execution_count": 5,
     "metadata": {},
     "output_type": "execute_result"
    }
   ],
   "source": [
    "(3*4)+5"
   ]
  },
  {
   "cell_type": "markdown",
   "id": "1c9dc7ef",
   "metadata": {},
   "source": [
    "## This will convert 200 minutes to hours by diving by 60"
   ]
  },
  {
   "cell_type": "code",
   "execution_count": 6,
   "id": "f88e4981",
   "metadata": {},
   "outputs": [
    {
     "data": {
      "text/plain": [
       "3.3333333333333335"
      ]
     },
     "execution_count": 6,
     "metadata": {},
     "output_type": "execute_result"
    }
   ],
   "source": [
    "200/60"
   ]
  },
  {
   "cell_type": "markdown",
   "id": "a6a185f8",
   "metadata": {},
   "source": [
    "## Author\n",
    "Dénes Hullám"
   ]
  },
  {
   "cell_type": "markdown",
   "id": "f100941d",
   "metadata": {},
   "source": [
    "## Author\n",
    "Dénes Hullám"
   ]
  },
  {
   "cell_type": "code",
   "execution_count": null,
   "id": "013d22c9",
   "metadata": {},
   "outputs": [],
   "source": []
  }
 ],
 "metadata": {
  "kernelspec": {
   "display_name": "Python 3 (ipykernel)",
   "language": "python",
   "name": "python3"
  },
  "language_info": {
   "codemirror_mode": {
    "name": "ipython",
    "version": 3
   },
   "file_extension": ".py",
   "mimetype": "text/x-python",
   "name": "python",
   "nbconvert_exporter": "python",
   "pygments_lexer": "ipython3",
   "version": "3.11.5"
  }
 },
 "nbformat": 4,
 "nbformat_minor": 5
}
